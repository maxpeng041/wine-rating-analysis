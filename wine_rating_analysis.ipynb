{
 "cells": [
  {
   "cell_type": "code",
   "execution_count": 21,
   "metadata": {},
   "outputs": [
    {
     "data": {
      "text/html": [
       "<style>.container { width:90% !important; }</style>"
      ],
      "text/plain": [
       "<IPython.core.display.HTML object>"
      ]
     },
     "metadata": {},
     "output_type": "display_data"
    }
   ],
   "source": [
    "import numpy as np\n",
    "import pandas as pd\n",
    "import seaborn as sns\n",
    "import matplotlib.pyplot as plt\n",
    "import matplotlib.ticker as ticker\n",
    "\n",
    "from sklearn.feature_extraction.text import CountVectorizer, TfidfVectorizer\n",
    "from sklearn.model_selection import train_test_split\n",
    "from sklearn.model_selection import cross_val_score\n",
    "from sklearn.model_selection import cross_validate\n",
    "from sklearn.ensemble import RandomForestClassifier\n",
    "from sklearn.linear_model import LogisticRegression\n",
    "from sklearn.naive_bayes import MultinomialNB\n",
    "from sklearn.metrics import confusion_matrix, classification_report, accuracy_score, precision_score, recall_score\n",
    "from sklearn import metrics\n",
    "from sklearn.impute import SimpleImputer\n",
    "from sklearn.compose import ColumnTransformer\n",
    "from sklearn.preprocessing import OneHotEncoder\n",
    "from sklearn.pipeline import make_pipeline\n",
    "from sklearn.pipeline import Pipeline\n",
    "\n",
    "from xgboost import XGBClassifier\n",
    "\n",
    "import warnings\n",
    "import sklearn.exceptions\n",
    "warnings.filterwarnings(\"ignore\", category=sklearn.exceptions.UndefinedMetricWarning)\n",
    "warnings.filterwarnings(\"ignore\", category=sklearn.exceptions.ConvergenceWarning)\n",
    "\n",
    "from IPython.core.display import display, HTML\n",
    "display(HTML(\"<style>.container { width:90% !important; }</style>\"))"
   ]
  },
  {
   "cell_type": "code",
   "execution_count": 2,
   "metadata": {},
   "outputs": [
    {
     "name": "stdout",
     "output_type": "stream",
     "text": [
      "Length of dataframe before duplicates are removed: 129971\n"
     ]
    },
    {
     "data": {
      "text/html": [
       "<div>\n",
       "<style scoped>\n",
       "    .dataframe tbody tr th:only-of-type {\n",
       "        vertical-align: middle;\n",
       "    }\n",
       "\n",
       "    .dataframe tbody tr th {\n",
       "        vertical-align: top;\n",
       "    }\n",
       "\n",
       "    .dataframe thead th {\n",
       "        text-align: right;\n",
       "    }\n",
       "</style>\n",
       "<table border=\"1\" class=\"dataframe\">\n",
       "  <thead>\n",
       "    <tr style=\"text-align: right;\">\n",
       "      <th></th>\n",
       "      <th>country</th>\n",
       "      <th>description</th>\n",
       "      <th>designation</th>\n",
       "      <th>points</th>\n",
       "      <th>price</th>\n",
       "      <th>province</th>\n",
       "      <th>region_1</th>\n",
       "      <th>region_2</th>\n",
       "      <th>taster_name</th>\n",
       "      <th>taster_twitter_handle</th>\n",
       "      <th>title</th>\n",
       "      <th>variety</th>\n",
       "      <th>winery</th>\n",
       "    </tr>\n",
       "  </thead>\n",
       "  <tbody>\n",
       "    <tr>\n",
       "      <th>79132</th>\n",
       "      <td>New Zealand</td>\n",
       "      <td>A bit restrained—or might that be muted?—on th...</td>\n",
       "      <td>NaN</td>\n",
       "      <td>84</td>\n",
       "      <td>11.0</td>\n",
       "      <td>East Coast</td>\n",
       "      <td>NaN</td>\n",
       "      <td>NaN</td>\n",
       "      <td>Joe Czerwinski</td>\n",
       "      <td>@JoeCz</td>\n",
       "      <td>Monkey Bay 2006 Chardonnay (East Coast)</td>\n",
       "      <td>Chardonnay</td>\n",
       "      <td>Monkey Bay</td>\n",
       "    </tr>\n",
       "    <tr>\n",
       "      <th>113180</th>\n",
       "      <td>France</td>\n",
       "      <td>A well-balanced rich wine, showing the ripe fr...</td>\n",
       "      <td>Domaine de Riaz</td>\n",
       "      <td>88</td>\n",
       "      <td>NaN</td>\n",
       "      <td>Beaujolais</td>\n",
       "      <td>Côte de Brouilly</td>\n",
       "      <td>NaN</td>\n",
       "      <td>Roger Voss</td>\n",
       "      <td>@vossroger</td>\n",
       "      <td>Georges Duboeuf 2009 Domaine de Riaz  (Côte de...</td>\n",
       "      <td>Gamay</td>\n",
       "      <td>Georges Duboeuf</td>\n",
       "    </tr>\n",
       "    <tr>\n",
       "      <th>34056</th>\n",
       "      <td>US</td>\n",
       "      <td>All varietal coming from Dwelley and Minnick H...</td>\n",
       "      <td>Winemaker's Select</td>\n",
       "      <td>88</td>\n",
       "      <td>42.0</td>\n",
       "      <td>Washington</td>\n",
       "      <td>Walla Walla Valley (WA)</td>\n",
       "      <td>Columbia Valley</td>\n",
       "      <td>Sean P. Sullivan</td>\n",
       "      <td>@wawinereport</td>\n",
       "      <td>Adamant Cellars 2012 Winemaker's Select Merlot...</td>\n",
       "      <td>Merlot</td>\n",
       "      <td>Adamant Cellars</td>\n",
       "    </tr>\n",
       "    <tr>\n",
       "      <th>28658</th>\n",
       "      <td>US</td>\n",
       "      <td>Deep, dark espresso bean, loam and graphite ar...</td>\n",
       "      <td>NaN</td>\n",
       "      <td>85</td>\n",
       "      <td>19.0</td>\n",
       "      <td>California</td>\n",
       "      <td>Monterey County</td>\n",
       "      <td>Central Coast</td>\n",
       "      <td>Matt Kettmann</td>\n",
       "      <td>@mattkettmann</td>\n",
       "      <td>Las Palmeras 2013 Cabernet Sauvignon (Monterey...</td>\n",
       "      <td>Cabernet Sauvignon</td>\n",
       "      <td>Las Palmeras</td>\n",
       "    </tr>\n",
       "    <tr>\n",
       "      <th>52236</th>\n",
       "      <td>Austria</td>\n",
       "      <td>Tangy orange zest and lime are the dominant fl...</td>\n",
       "      <td>NaN</td>\n",
       "      <td>87</td>\n",
       "      <td>NaN</td>\n",
       "      <td>Burgenland</td>\n",
       "      <td>NaN</td>\n",
       "      <td>NaN</td>\n",
       "      <td>Roger Voss</td>\n",
       "      <td>@vossroger</td>\n",
       "      <td>Höpler 2012 Grüner Veltliner (Burgenland)</td>\n",
       "      <td>Grüner Veltliner</td>\n",
       "      <td>Höpler</td>\n",
       "    </tr>\n",
       "  </tbody>\n",
       "</table>\n",
       "</div>"
      ],
      "text/plain": [
       "            country                                        description  \\\n",
       "79132   New Zealand  A bit restrained—or might that be muted?—on th...   \n",
       "113180       France  A well-balanced rich wine, showing the ripe fr...   \n",
       "34056            US  All varietal coming from Dwelley and Minnick H...   \n",
       "28658            US  Deep, dark espresso bean, loam and graphite ar...   \n",
       "52236       Austria  Tangy orange zest and lime are the dominant fl...   \n",
       "\n",
       "               designation  points  price    province  \\\n",
       "79132                  NaN      84   11.0  East Coast   \n",
       "113180     Domaine de Riaz      88    NaN  Beaujolais   \n",
       "34056   Winemaker's Select      88   42.0  Washington   \n",
       "28658                  NaN      85   19.0  California   \n",
       "52236                  NaN      87    NaN  Burgenland   \n",
       "\n",
       "                       region_1         region_2       taster_name  \\\n",
       "79132                       NaN              NaN    Joe Czerwinski   \n",
       "113180         Côte de Brouilly              NaN        Roger Voss   \n",
       "34056   Walla Walla Valley (WA)  Columbia Valley  Sean P. Sullivan   \n",
       "28658           Monterey County    Central Coast     Matt Kettmann   \n",
       "52236                       NaN              NaN        Roger Voss   \n",
       "\n",
       "       taster_twitter_handle  \\\n",
       "79132                 @JoeCz   \n",
       "113180            @vossroger   \n",
       "34056          @wawinereport   \n",
       "28658          @mattkettmann   \n",
       "52236             @vossroger   \n",
       "\n",
       "                                                    title             variety  \\\n",
       "79132             Monkey Bay 2006 Chardonnay (East Coast)          Chardonnay   \n",
       "113180  Georges Duboeuf 2009 Domaine de Riaz  (Côte de...               Gamay   \n",
       "34056   Adamant Cellars 2012 Winemaker's Select Merlot...              Merlot   \n",
       "28658   Las Palmeras 2013 Cabernet Sauvignon (Monterey...  Cabernet Sauvignon   \n",
       "52236           Höpler 2012 Grüner Veltliner (Burgenland)    Grüner Veltliner   \n",
       "\n",
       "                 winery  \n",
       "79132        Monkey Bay  \n",
       "113180  Georges Duboeuf  \n",
       "34056   Adamant Cellars  \n",
       "28658      Las Palmeras  \n",
       "52236            Höpler  "
      ]
     },
     "execution_count": 2,
     "metadata": {},
     "output_type": "execute_result"
    }
   ],
   "source": [
    "init_data = pd.read_csv(\"winemag-data-130k-v2.csv\")\n",
    "init_data = init_data.drop(init_data.columns[0], axis=1)\n",
    "print(\"Length of dataframe before duplicates are removed:\", len(init_data))\n",
    "init_data.sample(5)"
   ]
  },
  {
   "cell_type": "code",
   "execution_count": 3,
   "metadata": {},
   "outputs": [
    {
     "name": "stdout",
     "output_type": "stream",
     "text": [
      "Length of dataframe after duplicates are removed: 119955\n",
      "Length of dataframe after NaNs are removed: 111511\n"
     ]
    }
   ],
   "source": [
    "data = init_data.copy()\n",
    "data.drop_duplicates(subset='description', inplace=True)\n",
    "print(\"Length of dataframe after duplicates are removed:\", len(data))\n",
    "\n",
    "data = data.dropna(subset=['description', 'price', 'points', 'country', 'variety'])\n",
    "print(\"Length of dataframe after NaNs are removed:\", len(data))"
   ]
  },
  {
   "cell_type": "code",
   "execution_count": 4,
   "metadata": {},
   "outputs": [
    {
     "name": "stdout",
     "output_type": "stream",
     "text": [
      "<class 'pandas.core.frame.DataFrame'>\n",
      "RangeIndex: 111511 entries, 0 to 111510\n",
      "Data columns (total 13 columns):\n",
      " #   Column                 Non-Null Count   Dtype  \n",
      "---  ------                 --------------   -----  \n",
      " 0   country                111511 non-null  object \n",
      " 1   description            111511 non-null  object \n",
      " 2   designation            79472 non-null   object \n",
      " 3   points                 111511 non-null  int64  \n",
      " 4   price                  111511 non-null  float64\n",
      " 5   province               111511 non-null  object \n",
      " 6   region_1               93556 non-null   object \n",
      " 7   region_2               46559 non-null   object \n",
      " 8   taster_name            88244 non-null   object \n",
      " 9   taster_twitter_handle  83761 non-null   object \n",
      " 10  title                  111511 non-null  object \n",
      " 11  variety                111511 non-null  object \n",
      " 12  winery                 111511 non-null  object \n",
      "dtypes: float64(1), int64(1), object(11)\n",
      "memory usage: 11.1+ MB\n"
     ]
    }
   ],
   "source": [
    "data = data.reset_index(drop=True)\n",
    "data.info()"
   ]
  },
  {
   "cell_type": "code",
   "execution_count": 5,
   "metadata": {},
   "outputs": [
    {
     "data": {
      "text/html": [
       "<div>\n",
       "<style scoped>\n",
       "    .dataframe tbody tr th:only-of-type {\n",
       "        vertical-align: middle;\n",
       "    }\n",
       "\n",
       "    .dataframe tbody tr th {\n",
       "        vertical-align: top;\n",
       "    }\n",
       "\n",
       "    .dataframe thead th {\n",
       "        text-align: right;\n",
       "    }\n",
       "</style>\n",
       "<table border=\"1\" class=\"dataframe\">\n",
       "  <thead>\n",
       "    <tr style=\"text-align: right;\">\n",
       "      <th></th>\n",
       "      <th>country</th>\n",
       "      <th>description</th>\n",
       "      <th>designation</th>\n",
       "      <th>points</th>\n",
       "      <th>price</th>\n",
       "      <th>province</th>\n",
       "      <th>region_1</th>\n",
       "      <th>region_2</th>\n",
       "      <th>taster_name</th>\n",
       "      <th>taster_twitter_handle</th>\n",
       "      <th>title</th>\n",
       "      <th>variety</th>\n",
       "      <th>winery</th>\n",
       "      <th>points_simplified</th>\n",
       "    </tr>\n",
       "  </thead>\n",
       "  <tbody>\n",
       "    <tr>\n",
       "      <th>71750</th>\n",
       "      <td>US</td>\n",
       "      <td>Has its work cut out for it. Fundamentally a o...</td>\n",
       "      <td>Estate De Cascabel Vineyard</td>\n",
       "      <td>82</td>\n",
       "      <td>18.0</td>\n",
       "      <td>California</td>\n",
       "      <td>Fair Play</td>\n",
       "      <td>Sierra Foothills</td>\n",
       "      <td>NaN</td>\n",
       "      <td>NaN</td>\n",
       "      <td>Oakstone 1999 Estate De Cascabel Vineyard Cabe...</td>\n",
       "      <td>Cabernet Sauvignon</td>\n",
       "      <td>Oakstone</td>\n",
       "      <td>1</td>\n",
       "    </tr>\n",
       "    <tr>\n",
       "      <th>67984</th>\n",
       "      <td>US</td>\n",
       "      <td>This aromatic barrel selection employs multipl...</td>\n",
       "      <td>Jory Hills Vineyard</td>\n",
       "      <td>91</td>\n",
       "      <td>55.0</td>\n",
       "      <td>Oregon</td>\n",
       "      <td>Dundee Hills</td>\n",
       "      <td>Willamette Valley</td>\n",
       "      <td>Paul Gregutt</td>\n",
       "      <td>@paulgwine</td>\n",
       "      <td>WillaKenzie Estate 2014 Jory Hills Vineyard Pi...</td>\n",
       "      <td>Pinot Noir</td>\n",
       "      <td>WillaKenzie Estate</td>\n",
       "      <td>3</td>\n",
       "    </tr>\n",
       "    <tr>\n",
       "      <th>1861</th>\n",
       "      <td>Italy</td>\n",
       "      <td>This gorgeous Greco di Tufo opens with bright ...</td>\n",
       "      <td>NaN</td>\n",
       "      <td>88</td>\n",
       "      <td>25.0</td>\n",
       "      <td>Southern Italy</td>\n",
       "      <td>Greco di Tufo</td>\n",
       "      <td>NaN</td>\n",
       "      <td>NaN</td>\n",
       "      <td>NaN</td>\n",
       "      <td>Mastroberardino 2011  Greco di Tufo</td>\n",
       "      <td>Greco</td>\n",
       "      <td>Mastroberardino</td>\n",
       "      <td>3</td>\n",
       "    </tr>\n",
       "    <tr>\n",
       "      <th>56270</th>\n",
       "      <td>US</td>\n",
       "      <td>Fresh cut pear drizzled with lemon juice is gi...</td>\n",
       "      <td>NaN</td>\n",
       "      <td>91</td>\n",
       "      <td>36.0</td>\n",
       "      <td>California</td>\n",
       "      <td>Paso Robles</td>\n",
       "      <td>Central Coast</td>\n",
       "      <td>Matt Kettmann</td>\n",
       "      <td>@mattkettmann</td>\n",
       "      <td>Daou 2013 Grenache Blanc (Paso Robles)</td>\n",
       "      <td>Grenache Blanc</td>\n",
       "      <td>Daou</td>\n",
       "      <td>3</td>\n",
       "    </tr>\n",
       "    <tr>\n",
       "      <th>10216</th>\n",
       "      <td>Italy</td>\n",
       "      <td>A blend of Sangiovese and 20% Canaiolo, it con...</td>\n",
       "      <td>NaN</td>\n",
       "      <td>86</td>\n",
       "      <td>22.0</td>\n",
       "      <td>Tuscany</td>\n",
       "      <td>Rosso di Montepulciano</td>\n",
       "      <td>NaN</td>\n",
       "      <td>Kerin O’Keefe</td>\n",
       "      <td>@kerinokeefe</td>\n",
       "      <td>La Calonica 2012  Rosso di Montepulciano</td>\n",
       "      <td>Red Blend</td>\n",
       "      <td>La Calonica</td>\n",
       "      <td>2</td>\n",
       "    </tr>\n",
       "  </tbody>\n",
       "</table>\n",
       "</div>"
      ],
      "text/plain": [
       "      country                                        description  \\\n",
       "71750      US  Has its work cut out for it. Fundamentally a o...   \n",
       "67984      US  This aromatic barrel selection employs multipl...   \n",
       "1861    Italy  This gorgeous Greco di Tufo opens with bright ...   \n",
       "56270      US  Fresh cut pear drizzled with lemon juice is gi...   \n",
       "10216   Italy  A blend of Sangiovese and 20% Canaiolo, it con...   \n",
       "\n",
       "                       designation  points  price        province  \\\n",
       "71750  Estate De Cascabel Vineyard      82   18.0      California   \n",
       "67984          Jory Hills Vineyard      91   55.0          Oregon   \n",
       "1861                           NaN      88   25.0  Southern Italy   \n",
       "56270                          NaN      91   36.0      California   \n",
       "10216                          NaN      86   22.0         Tuscany   \n",
       "\n",
       "                     region_1           region_2    taster_name  \\\n",
       "71750               Fair Play   Sierra Foothills            NaN   \n",
       "67984            Dundee Hills  Willamette Valley   Paul Gregutt   \n",
       "1861            Greco di Tufo                NaN            NaN   \n",
       "56270             Paso Robles      Central Coast  Matt Kettmann   \n",
       "10216  Rosso di Montepulciano                NaN  Kerin O’Keefe   \n",
       "\n",
       "      taster_twitter_handle  \\\n",
       "71750                   NaN   \n",
       "67984           @paulgwine    \n",
       "1861                    NaN   \n",
       "56270         @mattkettmann   \n",
       "10216          @kerinokeefe   \n",
       "\n",
       "                                                   title             variety  \\\n",
       "71750  Oakstone 1999 Estate De Cascabel Vineyard Cabe...  Cabernet Sauvignon   \n",
       "67984  WillaKenzie Estate 2014 Jory Hills Vineyard Pi...          Pinot Noir   \n",
       "1861                 Mastroberardino 2011  Greco di Tufo               Greco   \n",
       "56270             Daou 2013 Grenache Blanc (Paso Robles)      Grenache Blanc   \n",
       "10216           La Calonica 2012  Rosso di Montepulciano           Red Blend   \n",
       "\n",
       "                   winery  points_simplified  \n",
       "71750            Oakstone                  1  \n",
       "67984  WillaKenzie Estate                  3  \n",
       "1861      Mastroberardino                  3  \n",
       "56270                Daou                  3  \n",
       "10216         La Calonica                  2  "
      ]
     },
     "execution_count": 5,
     "metadata": {},
     "output_type": "execute_result"
    }
   ],
   "source": [
    "def transform_points_simplified(points):\n",
    "    if points < 84:\n",
    "        return 1\n",
    "    elif points >= 84 and points < 88:\n",
    "        return 2 \n",
    "    elif points >= 88 and points < 92:\n",
    "        return 3 \n",
    "    elif points >= 92 and points < 96:\n",
    "        return 4 \n",
    "    else:\n",
    "        return 5\n",
    "\n",
    "data = data.assign(points_simplified = data['points'].apply(transform_points_simplified))\n",
    "data.sample(5)"
   ]
  },
  {
   "cell_type": "markdown",
   "metadata": {},
   "source": [
    "### Explore features"
   ]
  },
  {
   "cell_type": "code",
   "execution_count": 34,
   "metadata": {},
   "outputs": [
    {
     "data": {
      "image/png": "[encoded data removed]",
      "text/plain": [
       "<Figure size 1080x648 with 1 Axes>"
      ]
     },
     "metadata": {
      "needs_background": "light"
     },
     "output_type": "display_data"
    }
   ],
   "source": [
    "plt.figure(figsize=(15,9))\n",
    "price_plot = sns.stripplot(x='price',\n",
    "                           y='points',\n",
    "                           data=data[data['price']<=70].sample(10000),\n",
    "                           size=24,\n",
    "                           marker='s',\n",
    "                           alpha=0.01,\n",
    "                           color='salmon')\n",
    "price_plot.set_title('Price vs. Points')\n",
    "ax = plt.gca()\n",
    "ax.xaxis.set_major_formatter(ticker.FormatStrFormatter('%d'))\n",
    "ax.xaxis.set_major_locator(ticker.MultipleLocator(base=10))"
   ]
  },
  {
   "cell_type": "code",
   "execution_count": 35,
   "metadata": {},
   "outputs": [
    {
     "data": {
      "image/png": "[encoded data removed]",
      "text/plain": [
       "<Figure size 936x576 with 1 Axes>"
      ]
     },
     "metadata": {
      "needs_background": "light"
     },
     "output_type": "display_data"
    }
   ],
   "source": [
    "plt.figure(figsize=(13,8))\n",
    "country_plot = sns.boxplot(x='country',\n",
    "                           y='points',\n",
    "                           data=data,\n",
    "                           order=['US', 'France', 'Italy', 'Spain', 'Portugal', \n",
    "                                  'Chile', 'Argentina', 'Austria', 'Australia',\n",
    "                                  'Germany', 'New Zealand', 'South Africa']\n",
    "                          )\n",
    "country_plot.set_title('Country vs. Points');\n",
    "country_plot.set_xticklabels(country_plot.get_xticklabels(), rotation=30);"
   ]
  },
  {
   "cell_type": "code",
   "execution_count": 36,
   "metadata": {},
   "outputs": [
    {
     "data": {
      "image/png": "[encoded data removed]",
      "text/plain": [
       "<Figure size 1224x576 with 1 Axes>"
      ]
     },
     "metadata": {
      "needs_background": "light"
     },
     "output_type": "display_data"
    }
   ],
   "source": [
    "plt.figure(figsize=(17,8))\n",
    "variety_plot = sns.boxplot(x='variety',\n",
    "                           y='points',\n",
    "                           data=data,\n",
    "                           order=['Pinot Noir', 'Chardonnay', 'Cabernet Sauvignon', \n",
    "                                  'Red Blend', 'Bordeaux-style Red Blend', 'Riesling', \n",
    "                                  'Sauvignon Blanc', 'Syrah', 'Rosé', 'Merlot',\n",
    "                                  'Zinfandel', 'Malbec', 'Sangiovese', 'Nebbiolo',\n",
    "                                  'Portuguese Red', 'White Blend']\n",
    "                          )\n",
    "variety_plot.set_title('Grape Variety vs. Points');\n",
    "variety_plot.set_xticklabels(variety_plot.get_xticklabels(), rotation=30);"
   ]
  },
  {
   "cell_type": "markdown",
   "metadata": {},
   "source": [
    "### Use non-text features for prediction"
   ]
  },
  {
   "cell_type": "code",
   "execution_count": 6,
   "metadata": {},
   "outputs": [],
   "source": [
    "features = ['price', 'country', 'province', 'variety', 'winery']\n",
    "X = data[features]\n",
    "y = data['points_simplified']\n",
    "\n",
    "numerical_cols = list((X.columns[X.dtypes=='int64']) | (X.columns[X.dtypes=='float64']))\n",
    "categorical_cols = list(X.columns[X.dtypes=='object'])"
   ]
  },
  {
   "cell_type": "code",
   "execution_count": 7,
   "metadata": {},
   "outputs": [],
   "source": [
    "numerical_transformer = SimpleImputer(strategy='constant')\n",
    "\n",
    "categorical_transformer = Pipeline(steps=[('imputer', SimpleImputer(strategy='most_frequent')), \n",
    "                                          ('onehot', OneHotEncoder(handle_unknown='ignore'))])\n",
    "\n",
    "preprocessor = ColumnTransformer(transformers=[('num', numerical_transformer, numerical_cols), \n",
    "                                               ('obj', categorical_transformer, categorical_cols)])"
   ]
  },
  {
   "cell_type": "code",
   "execution_count": 126,
   "metadata": {},
   "outputs": [
    {
     "name": "stdout",
     "output_type": "stream",
     "text": [
      "test_precision_macro:    0.44575999985258086\n",
      "test_recall_macro:       0.3999015942369561\n",
      "test_f1_macro:           0.41466144193410265\n",
      "test_precision_weighted: 0.5536211268268463\n",
      "test_recall_weighted:    0.5631462482946322\n",
      "test_f1_weighted:        0.5563066178658447\n"
     ]
    }
   ],
   "source": [
    "rf_model = RandomForestClassifier()\n",
    "rf_pipeline = Pipeline(steps=[('preprocessor', preprocessor),\n",
    "                              ('rf_model', rf_model)])\n",
    "\n",
    "scoring = ['precision_macro', 'recall_macro', 'f1_macro',\n",
    "           'precision_weighted', 'recall_weighted', 'f1_weighted']\n",
    "\n",
    "scores = cross_validate(rf_pipeline, X, y, scoring=scoring)\n",
    "k = len(scores['test_precision_macro'])\n",
    "print('test_precision_macro:    ' + str(sum(scores['test_precision_macro']) / k))\n",
    "print('test_recall_macro:       ' + str(sum(scores['test_recall_macro']) / k))\n",
    "print('test_f1_macro:           ' + str(sum(scores['test_f1_macro']) / k))\n",
    "print('test_precision_weighted: ' + str(sum(scores['test_precision_weighted']) / k))\n",
    "print('test_recall_weighted:    ' + str(sum(scores['test_recall_weighted']) / k))\n",
    "print('test_f1_weighted:        ' + str(sum(scores['test_f1_weighted']) / k))"
   ]
  },
  {
   "cell_type": "code",
   "execution_count": 127,
   "metadata": {},
   "outputs": [
    {
     "name": "stderr",
     "output_type": "stream",
     "text": [
      "/Users/maxpeng/opt/anaconda3/lib/python3.7/site-packages/sklearn/metrics/_classification.py:1272: UndefinedMetricWarning: Precision is ill-defined and being set to 0.0 in labels with no predicted samples. Use `zero_division` parameter to control this behavior.\n",
      "  _warn_prf(average, modifier, msg_start, len(result))\n",
      "/Users/maxpeng/opt/anaconda3/lib/python3.7/site-packages/sklearn/metrics/_classification.py:1272: UndefinedMetricWarning: Precision is ill-defined and being set to 0.0 in labels with no predicted samples. Use `zero_division` parameter to control this behavior.\n",
      "  _warn_prf(average, modifier, msg_start, len(result))\n",
      "/Users/maxpeng/opt/anaconda3/lib/python3.7/site-packages/sklearn/metrics/_classification.py:1272: UndefinedMetricWarning: Precision is ill-defined and being set to 0.0 in labels with no predicted samples. Use `zero_division` parameter to control this behavior.\n",
      "  _warn_prf(average, modifier, msg_start, len(result))\n"
     ]
    },
    {
     "name": "stdout",
     "output_type": "stream",
     "text": [
      "test_precision_macro:    0.41445293009151996\n",
      "test_recall_macro:       0.34087449488251265\n",
      "test_f1_macro:           0.34325622720325183\n",
      "test_precision_weighted: 0.5441218435368932\n",
      "test_recall_weighted:    0.5673969624048546\n",
      "test_f1_weighted:        0.5463015924418592\n"
     ]
    },
    {
     "name": "stderr",
     "output_type": "stream",
     "text": [
      "/Users/maxpeng/opt/anaconda3/lib/python3.7/site-packages/sklearn/metrics/_classification.py:1272: UndefinedMetricWarning: Precision is ill-defined and being set to 0.0 in labels with no predicted samples. Use `zero_division` parameter to control this behavior.\n",
      "  _warn_prf(average, modifier, msg_start, len(result))\n"
     ]
    }
   ],
   "source": [
    "xgb_model = XGBClassifier()\n",
    "xgb_pipeline = Pipeline(steps=[('preprocessor', preprocessor),\n",
    "                               ('xgb_model', xgb_model)])\n",
    "\n",
    "scoring = ['precision_macro', 'recall_macro', 'f1_macro',\n",
    "           'precision_weighted', 'recall_weighted', 'f1_weighted']\n",
    "\n",
    "scores = cross_validate(xgb_pipeline, X, y, scoring=scoring)\n",
    "k = len(scores['test_precision_macro'])\n",
    "print('test_precision_macro:    ' + str(sum(scores['test_precision_macro']) / k))\n",
    "print('test_recall_macro:       ' + str(sum(scores['test_recall_macro']) / k))\n",
    "print('test_f1_macro:           ' + str(sum(scores['test_f1_macro']) / k))\n",
    "print('test_precision_weighted: ' + str(sum(scores['test_precision_weighted']) / k))\n",
    "print('test_recall_weighted:    ' + str(sum(scores['test_recall_weighted']) / k))\n",
    "print('test_f1_weighted:        ' + str(sum(scores['test_f1_weighted']) / k))"
   ]
  },
  {
   "cell_type": "markdown",
   "metadata": {},
   "source": [
    "### Use text for prediction"
   ]
  },
  {
   "cell_type": "code",
   "execution_count": 6,
   "metadata": {},
   "outputs": [],
   "source": [
    "X_text = data['description']\n",
    "y = data['points_simplified']\n",
    "\n",
    "vectorizer = TfidfVectorizer()\n",
    "vectorizer.fit(X_text)\n",
    "X_text = vectorizer.transform(X_text)"
   ]
  },
  {
   "cell_type": "code",
   "execution_count": 12,
   "metadata": {},
   "outputs": [
    {
     "name": "stdout",
     "output_type": "stream",
     "text": [
      "test_precision_macro:    0.5738998915078161\n",
      "test_recall_macro:       0.33906758754057537\n",
      "test_f1_macro:           0.3406265672587864\n",
      "test_precision_weighted: 0.6397098078440204\n",
      "test_recall_weighted:    0.6061734408982671\n",
      "test_f1_weighted:        0.5649945369202835\n"
     ]
    }
   ],
   "source": [
    "rf_model_text = RandomForestClassifier()\n",
    "\n",
    "scoring = ['precision_macro', 'recall_macro', 'f1_macro',\n",
    "           'precision_weighted', 'recall_weighted', 'f1_weighted']\n",
    "\n",
    "scores = cross_validate(rf_model_text, X_text, y, scoring=scoring)\n",
    "k = len(scores['test_precision_macro'])\n",
    "print('test_precision_macro:    ' + str(sum(scores['test_precision_macro']) / k))\n",
    "print('test_recall_macro:       ' + str(sum(scores['test_recall_macro']) / k))\n",
    "print('test_f1_macro:           ' + str(sum(scores['test_f1_macro']) / k))\n",
    "print('test_precision_weighted: ' + str(sum(scores['test_precision_weighted']) / k))\n",
    "print('test_recall_weighted:    ' + str(sum(scores['test_recall_weighted']) / k))\n",
    "print('test_f1_weighted:        ' + str(sum(scores['test_f1_weighted']) / k))"
   ]
  },
  {
   "cell_type": "code",
   "execution_count": 13,
   "metadata": {},
   "outputs": [
    {
     "name": "stdout",
     "output_type": "stream",
     "text": [
      "test_precision_macro:    0.5893773590943224\n",
      "test_recall_macro:       0.4661776707185994\n",
      "test_f1_macro:           0.4930066381392659\n",
      "test_precision_weighted: 0.6667761798264847\n",
      "test_recall_weighted:    0.6670194528924487\n",
      "test_f1_weighted:        0.659404930698896\n"
     ]
    }
   ],
   "source": [
    "lr_model_text = LogisticRegression()\n",
    "\n",
    "scoring = ['precision_macro', 'recall_macro', 'f1_macro',\n",
    "           'precision_weighted', 'recall_weighted', 'f1_weighted']\n",
    "\n",
    "scores = cross_validate(lr_model_text, X_text, y, scoring=scoring)\n",
    "k = len(scores['test_precision_macro'])\n",
    "print('test_precision_macro:    ' + str(sum(scores['test_precision_macro']) / k))\n",
    "print('test_recall_macro:       ' + str(sum(scores['test_recall_macro']) / k))\n",
    "print('test_f1_macro:           ' + str(sum(scores['test_f1_macro']) / k))\n",
    "print('test_precision_weighted: ' + str(sum(scores['test_precision_weighted']) / k))\n",
    "print('test_recall_weighted:    ' + str(sum(scores['test_recall_weighted']) / k))\n",
    "print('test_f1_weighted:        ' + str(sum(scores['test_f1_weighted']) / k))"
   ]
  },
  {
   "cell_type": "code",
   "execution_count": 17,
   "metadata": {},
   "outputs": [
    {
     "name": "stdout",
     "output_type": "stream",
     "text": [
      "test_precision_macro:    0.5448269417532543\n",
      "test_recall_macro:       0.311030729490229\n",
      "test_f1_macro:           0.2922357703408517\n",
      "test_precision_weighted: 0.6266861683035221\n",
      "test_recall_weighted:    0.5927667026404219\n",
      "test_f1_weighted:        0.5340632884181303\n"
     ]
    }
   ],
   "source": [
    "nb_model_text = MultinomialNB()\n",
    "\n",
    "scoring = ['precision_macro', 'recall_macro', 'f1_macro',\n",
    "           'precision_weighted', 'recall_weighted', 'f1_weighted']\n",
    "\n",
    "scores = cross_validate(nb_model_text, X_text, y, scoring=scoring)\n",
    "k = len(scores['test_precision_macro'])\n",
    "print('test_precision_macro:    ' + str(sum(scores['test_precision_macro']) / k))\n",
    "print('test_recall_macro:       ' + str(sum(scores['test_recall_macro']) / k))\n",
    "print('test_f1_macro:           ' + str(sum(scores['test_f1_macro']) / k))\n",
    "print('test_precision_weighted: ' + str(sum(scores['test_precision_weighted']) / k))\n",
    "print('test_recall_weighted:    ' + str(sum(scores['test_recall_weighted']) / k))\n",
    "print('test_f1_weighted:        ' + str(sum(scores['test_f1_weighted']) / k))"
   ]
  },
  {
   "cell_type": "markdown",
   "metadata": {},
   "source": [
    "### Fine tune logistic regression"
   ]
  },
  {
   "cell_type": "code",
   "execution_count": 36,
   "metadata": {},
   "outputs": [
    {
     "name": "stdout",
     "output_type": "stream",
     "text": [
      "test_precision_macro:    0.6018753995914256\n",
      "test_recall_macro:       0.4956889961724501\n",
      "test_f1_macro:           0.5204250707249468\n",
      "test_precision_weighted: 0.6601282137862583\n",
      "test_recall_weighted:    0.6626431854832381\n",
      "test_f1_weighted:        0.6585331625659869\n"
     ]
    }
   ],
   "source": [
    "lr_model_text = LogisticRegression(max_iter=1000, C=10)\n",
    "\n",
    "scoring = ['precision_macro', 'recall_macro', 'f1_macro',\n",
    "           'precision_weighted', 'recall_weighted', 'f1_weighted']\n",
    "\n",
    "scores = cross_validate(lr_model_text, X_text, y, scoring=scoring)\n",
    "k = len(scores['test_precision_macro'])\n",
    "print('test_precision_macro:    ' + str(sum(scores['test_precision_macro']) / k))\n",
    "print('test_recall_macro:       ' + str(sum(scores['test_recall_macro']) / k))\n",
    "print('test_f1_macro:           ' + str(sum(scores['test_f1_macro']) / k))\n",
    "print('test_precision_weighted: ' + str(sum(scores['test_precision_weighted']) / k))\n",
    "print('test_recall_weighted:    ' + str(sum(scores['test_recall_weighted']) / k))\n",
    "print('test_f1_weighted:        ' + str(sum(scores['test_f1_weighted']) / k))"
   ]
  }
 ],
 "metadata": {
  "kernelspec": {
   "display_name": "Python 3",
   "language": "python",
   "name": "python3"
  },
  "language_info": {
   "codemirror_mode": {
    "name": "ipython",
    "version": 3
   },
   "file_extension": ".py",
   "mimetype": "text/x-python",
   "name": "python",
   "nbconvert_exporter": "python",
   "pygments_lexer": "ipython3",
   "version": "3.7.6"
  }
 },
 "nbformat": 4,
 "nbformat_minor": 4
}
